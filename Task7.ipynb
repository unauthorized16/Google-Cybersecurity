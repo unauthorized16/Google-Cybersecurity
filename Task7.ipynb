{
 "cells": [
  {
   "cell_type": "markdown",
   "metadata": {},
   "source": [
    " Project Description \n",
    " \n",
    " SOC Analyst \n",
    "\n",
    " In this lab, I'll work with a text file containing IP addresses that are allowed to access specific restricted content at my organization. I am required to regularly update a file that identifies the employees who can access restricted content. The contents of the file are based on who is working with personal patient records. Employees are restricted access based on their IP address. There is an allow list for IP addresses permitted to sign into the restricted subnetwork. There's also a remove list that identifies which employees I must remove from this allow list.My  task is to create an algorithm that uses Python code to check whether the allow list contains any IP addresses identified on the remove list. If so, you should remove those IP addresses from the file containing the allow list."
   ]
  },
  {
   "cell_type": "markdown",
   "metadata": {},
   "source": [
    "Open the file that contains the allow list\n",
    "\n",
    "Read the file contents"
   ]
  },
  {
   "cell_type": "code",
   "execution_count": 1,
   "metadata": {},
   "outputs": [
    {
     "name": "stdout",
     "output_type": "stream",
     "text": [
      "ip\n",
      "address\n",
      "192.168.205.12\n",
      "192.168.6.9\n",
      "192.168.52.90\n",
      "192.168.186.176\n",
      "192.168.133.188\n",
      "192.168.203.198\n",
      "192.168.218.219\n",
      "192.168.52.37\n",
      "192.168.156.224\n",
      "192.168.69.116\n"
     ]
    }
   ],
   "source": [
    "with open(\"allow-list.txt\",\"r\") as file:\n",
    "    a=file.read()\n",
    "print(a)"
   ]
  },
  {
   "cell_type": "markdown",
   "metadata": {},
   "source": []
  },
  {
   "cell_type": "markdown",
   "metadata": {},
   "source": [
    "Convert the string into a list"
   ]
  },
  {
   "cell_type": "code",
   "execution_count": 18,
   "metadata": {},
   "outputs": [
    {
     "name": "stdout",
     "output_type": "stream",
     "text": [
      "['ip', 'address', '192.168.205.12', '192.168.6.9', '192.168.52.90', '192.168.186.176', '192.168.133.188', '192.168.203.198', '192.168.218.219', '192.168.52.37', '192.168.156.224', '192.168.69.116', '192.168.97.225', '192.168.158.170', '192.168.201.40', '192.168.58.57']\n"
     ]
    }
   ],
   "source": [
    "import_file=\"allow-list.txt\"\n",
    "with open(import_file, \"r\") as file:\n",
    "    ip_addresses=file.read()\n",
    "ip_addresses=ip_addresses.split()\n",
    "\n",
    "print(ip_addresses)"
   ]
  },
  {
   "cell_type": "markdown",
   "metadata": {},
   "source": [
    "Iterate through the remove list"
   ]
  },
  {
   "cell_type": "code",
   "execution_count": 17,
   "metadata": {},
   "outputs": [
    {
     "name": "stdout",
     "output_type": "stream",
     "text": [
      "192.168.97.225\n",
      "192.168.158.170\n",
      "192.168.201.40\n",
      "192.168.58.57\n"
     ]
    }
   ],
   "source": [
    "import_file=\"allow-list.txt\"\n",
    "remove_list = [\"192.168.97.225\", \"192.168.158.170\", \"192.168.201.40\", \"192.168.58.57\"]\n",
    "with open(import_file, \"r\") as file:\n",
    "    ip_addresses=file.read()\n",
    "ip_addresses=ip_addresses.split()\n",
    "for element in remove_list:\n",
    "    print(element)\n"
   ]
  },
  {
   "cell_type": "markdown",
   "metadata": {},
   "source": [
    "Remove IP addresses that are on the remove list"
   ]
  },
  {
   "cell_type": "code",
   "execution_count": 19,
   "metadata": {},
   "outputs": [
    {
     "name": "stdout",
     "output_type": "stream",
     "text": [
      "['ip', 'address', '192.168.205.12', '192.168.6.9', '192.168.52.90', '192.168.186.176', '192.168.133.188', '192.168.203.198', '192.168.218.219', '192.168.52.37', '192.168.156.224', '192.168.69.116']\n"
     ]
    }
   ],
   "source": [
    "import_file=\"allow-list.txt\"\n",
    "remove_list = [\"192.168.97.225\", \"192.168.158.170\", \"192.168.201.40\", \"192.168.58.57\"]\n",
    "with open(import_file, \"r\") as file:\n",
    "    ip_addresses=file.read()\n",
    "ip_addresses=ip_addresses.split()\n",
    "for element in remove_list:\n",
    "    if element in ip_addresses:\n",
    "        ip_addresses.remove(element)\n",
    "print(ip_addresses)"
   ]
  },
  {
   "cell_type": "markdown",
   "metadata": {},
   "source": [
    "Update the file with the revised list of IP addresses "
   ]
  },
  {
   "cell_type": "code",
   "execution_count": 20,
   "metadata": {},
   "outputs": [
    {
     "name": "stdout",
     "output_type": "stream",
     "text": [
      "ip\n",
      "address\n",
      "192.168.205.12\n",
      "192.168.6.9\n",
      "192.168.52.90\n",
      "192.168.186.176\n",
      "192.168.133.188\n",
      "192.168.203.198\n",
      "192.168.218.219\n",
      "192.168.52.37\n",
      "192.168.156.224\n",
      "192.168.69.116\n"
     ]
    }
   ],
   "source": [
    "import_file=\"allow-list.txt\"\n",
    "remove_list = [\"192.168.97.225\", \"192.168.158.170\", \"192.168.201.40\", \"192.168.58.57\"]\n",
    "with open(import_file, \"r\") as file:\n",
    "    ip_addresses=file.read()\n",
    "ip_addresses=ip_addresses.split()\n",
    "for element in remove_list:\n",
    "    if element in ip_addresses:\n",
    "        ip_addresses.remove(element)\n",
    "ip_addresses = \"\\n\".join(ip_addresses)\n",
    "with open(import_file, \"w\") as file:\n",
    "    file.write(ip_addresses)\n",
    "with open(import_file,'r') as file:\n",
    "    text = file.read()\n",
    "print(text)"
   ]
  },
  {
   "cell_type": "markdown",
   "metadata": {},
   "source": [
    "Summary \n",
    "By this I have created a algorithm by using the following \n",
    "Python has functions and syntax that help you import and parse text files.\n",
    "The with statement allows you to efficiently handle files.\n",
    "The open() function allows you to import or open a file. It takes in the name of the file as the first parameter and a string that indicates the purpose of opening the file as the second parameter.\n",
    "Specify \"r\" as the second parameter if you're opening the file for reading purposes.\n",
    "Specify \"w\" as the second parameter if you're opening the file for writing purposes.\n",
    "The .read() method allows you to read in a file.\n",
    "The .write() method allows you to append or write to a file.\n",
    "You can use the .split() method to convert a string to a list.\n",
    "You can use a for loop to iterate over a list.\n",
    "You can use a conditional to evaluate if a variable is part of a list.\n",
    "You can use Python to compare contents of a text file against elements of a list.\n",
    "Algorithms can be incorporated into functions. When defining a function, you must specify the parameters it takes in and the actions it should execute."
   ]
  }
 ],
 "metadata": {
  "kernelspec": {
   "display_name": "Python 3",
   "language": "python",
   "name": "python3"
  },
  "language_info": {
   "codemirror_mode": {
    "name": "ipython",
    "version": 3
   },
   "file_extension": ".py",
   "mimetype": "text/x-python",
   "name": "python",
   "nbconvert_exporter": "python",
   "pygments_lexer": "ipython3",
   "version": "3.10.11"
  },
  "orig_nbformat": 4
 },
 "nbformat": 4,
 "nbformat_minor": 2
}
